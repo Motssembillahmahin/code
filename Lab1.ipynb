{
 "cells": [
  {
   "cell_type": "code",
   "execution_count": null,
   "id": "5d28b279-e7a7-450a-9d91-a16cae228b11",
   "metadata": {},
   "outputs": [
    {
     "name": "stdin",
     "output_type": "stream",
     "text": [
      " 2 +2 = \n"
     ]
    },
    {
     "name": "stdout",
     "output_type": "stream",
     "text": [
      "\n",
      "Please Enter in this format (number1 operator number2) \n"
     ]
    },
    {
     "name": "stdin",
     "output_type": "stream",
     "text": [
      " 2 + 2\n"
     ]
    },
    {
     "name": "stdout",
     "output_type": "stream",
     "text": [
      "2 + 2 = 4\n"
     ]
    },
    {
     "name": "stdin",
     "output_type": "stream",
     "text": [
      " 5%4\n"
     ]
    },
    {
     "name": "stdout",
     "output_type": "stream",
     "text": [
      "\n",
      "Please Enter in this format (number1 operator number2) \n"
     ]
    },
    {
     "name": "stdin",
     "output_type": "stream",
     "text": [
      " 8%4\n"
     ]
    },
    {
     "name": "stdout",
     "output_type": "stream",
     "text": [
      "\n",
      "Please Enter in this format (number1 operator number2) \n"
     ]
    },
    {
     "name": "stdin",
     "output_type": "stream",
     "text": [
      " 7 % 4\n"
     ]
    },
    {
     "name": "stdout",
     "output_type": "stream",
     "text": [
      "7 % 4 = 3\n"
     ]
    },
    {
     "name": "stdin",
     "output_type": "stream",
     "text": [
      " 4 + 2\n"
     ]
    },
    {
     "name": "stdout",
     "output_type": "stream",
     "text": [
      "4 + 2 = 6\n"
     ]
    }
   ],
   "source": [
    "def warning():\n",
    "    print(\"Please Enter in this format (number1 operator number2) \")\n",
    "    \n",
    "def calculation(num1,op,num2):\n",
    "    if op==\"+\":\n",
    "        return num1+num2\n",
    "    elif op==\"-\":\n",
    "        return num1-num2\n",
    "    elif op==\"*\":\n",
    "        return num2*num1\n",
    "    elif op==\"/\":\n",
    "        return num1/num2\n",
    "    elif op==\"%\":\n",
    "        return num1%num2\n",
    "    else:\n",
    "        print(\"Please Enter Valid Operator(+,-,/,*,%)\")\n",
    "        \n",
    "        \n",
    "while True:        \n",
    "    try:\n",
    "        num1,op,num2=input().split(\" \")\n",
    "        num1,num2=int(num1),int(num2)\n",
    "        print(f\"{num1} {op} {num2} = {calculation(num1,op,num2)}\")\n",
    "    except:\n",
    "        print()\n",
    "        warning()\n",
    "        continue;\n",
    "\n"
   ]
  },
  {
   "cell_type": "code",
   "execution_count": null,
   "id": "e7c2bbed-5a9e-4b1f-9bd3-8bc3eb6fbf21",
   "metadata": {},
   "outputs": [],
   "source": []
  }
 ],
 "metadata": {
  "kernelspec": {
   "display_name": "Python 3 (ipykernel)",
   "language": "python",
   "name": "python3"
  },
  "language_info": {
   "codemirror_mode": {
    "name": "ipython",
    "version": 3
   },
   "file_extension": ".py",
   "mimetype": "text/x-python",
   "name": "python",
   "nbconvert_exporter": "python",
   "pygments_lexer": "ipython3",
   "version": "3.12.4"
  }
 },
 "nbformat": 4,
 "nbformat_minor": 5
}
