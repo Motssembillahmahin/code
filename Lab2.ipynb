{
 "cells": [
  {
   "cell_type": "code",
   "execution_count": null,
   "id": "0ef1a85d-98f0-4f6e-a0d2-b15731c71c48",
   "metadata": {},
   "outputs": [
    {
     "name": "stdin",
     "output_type": "stream",
     "text": [
      "Please Enter n:  3\n"
     ]
    }
   ],
   "source": [
    "def calculation(num1,op,num2):\n",
    "    if op==\"+\":\n",
    "        return num1+num2\n",
    "    elif op==\"-\":\n",
    "        return num1-num2\n",
    "    elif op==\"*\":\n",
    "        return num2*num1\n",
    "    elif op==\"/\":\n",
    "        return num1/num2\n",
    "    elif op==\"%\":\n",
    "        return num1%num2\n",
    "    else:\n",
    "        print(\"Please Enter Valid Operator(+,-,/,*,%)\")\n",
    "        \n",
    "        \n",
    "n=int(input(\"Please Enter n: \"))\n",
    "elements=input(f\"Please Enter {n*2} Elements space by space and at last please enter a operator(+,-,*,/,%): \").split(\" \")\n",
    "op=elements[-1]\n",
    "elements=list(map(int,elements[:-1]))\n",
    "for i in range(0,2*n,2):\n",
    "    cal=calculation(elements[i],op,elements[i+1])\n",
    "    print(cal,end=\" \")\n",
    "print()"
   ]
  },
  {
   "cell_type": "code",
   "execution_count": null,
   "id": "34ce2db0-e1d6-451c-9484-d0bc21a7132a",
   "metadata": {},
   "outputs": [],
   "source": []
  }
 ],
 "metadata": {
  "kernelspec": {
   "display_name": "Python 3 (ipykernel)",
   "language": "python",
   "name": "python3"
  },
  "language_info": {
   "codemirror_mode": {
    "name": "ipython",
    "version": 3
   },
   "file_extension": ".py",
   "mimetype": "text/x-python",
   "name": "python",
   "nbconvert_exporter": "python",
   "pygments_lexer": "ipython3",
   "version": "3.12.4"
  }
 },
 "nbformat": 4,
 "nbformat_minor": 5
}
