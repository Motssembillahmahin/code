{
 "cells": [
  {
   "cell_type": "code",
   "execution_count": 1,
   "id": "c70a1eaa-1b25-49df-b0b9-95da4f47f1c7",
   "metadata": {},
   "outputs": [
    {
     "name": "stdout",
     "output_type": "stream",
     "text": [
      "Summation: 15\n",
      "Average: 3.00\n"
     ]
    }
   ],
   "source": [
    "def sum(array):\n",
    "    n=len(array)\n",
    "    summation=0\n",
    "    for i in range(n):\n",
    "        summation+=array[i]\n",
    "    return summation\n",
    "\n",
    "\n",
    "def average(array):\n",
    "    n=len(array)\n",
    "    summation=sum(array)\n",
    "    return summation/n\n",
    "\n",
    "\n",
    "array=[1,2,3,4,5]\n",
    "print(\"Summation:\",sum(array))\n",
    "print(f\"Average: {average(array):.2f}\")"
   ]
  },
  {
   "cell_type": "code",
   "execution_count": null,
   "id": "aaf38431-8269-4a6e-8be9-502071331db8",
   "metadata": {},
   "outputs": [],
   "source": []
  }
 ],
 "metadata": {
  "kernelspec": {
   "display_name": "Python 3 (ipykernel)",
   "language": "python",
   "name": "python3"
  },
  "language_info": {
   "codemirror_mode": {
    "name": "ipython",
    "version": 3
   },
   "file_extension": ".py",
   "mimetype": "text/x-python",
   "name": "python",
   "nbconvert_exporter": "python",
   "pygments_lexer": "ipython3",
   "version": "3.12.4"
  }
 },
 "nbformat": 4,
 "nbformat_minor": 5
}
