{
 "cells": [
  {
   "cell_type": "code",
   "execution_count": 3,
   "id": "8aa362b3-7cd8-472f-9612-d635c9a8067e",
   "metadata": {},
   "outputs": [
    {
     "name": "stdout",
     "output_type": "stream",
     "text": [
      "Successfully Created File with Required Calculations\n",
      "\n"
     ]
    }
   ],
   "source": [
    "def calculation(num1,op,num2):\n",
    "    if op==\"+\":\n",
    "        return num1+num2\n",
    "    elif op==\"-\":\n",
    "        return num1-num2\n",
    "    elif op==\"*\":\n",
    "        return num2*num1\n",
    "    elif op==\"/\":\n",
    "        return num1/num2\n",
    "    else:\n",
    "        print(\"Please Enter Valid Operator(+,-,/,*)\")\n",
    "        \n",
    "\n",
    "with open('input.txt', 'r') as file:\n",
    "    input_data = file.read()\n",
    "\n",
    "\n",
    "elements=list(map(int, input_data.replace(',', ' ').split()))\n",
    "n=len(elements)\n",
    "\n",
    "\n",
    "for i in range(0,n,2):\n",
    "    add=calculation(elements[i],\"+\",elements[i+1])\n",
    "    sub=calculation(elements[i],\"-\",elements[i+1])\n",
    "    mul=calculation(elements[i],\"*\",elements[i+1])\n",
    "    div=calculation(elements[i],\"/\",elements[i+1])\n",
    "    result=[add,sub,mul,div]\n",
    "    with open('output.txt', 'a') as file:\n",
    "        file.write(f\"Case: {i//2+1}: \"+' '.join(map(str, result))+\"\\n\")\n",
    "print(\"Successfully Created File with Required Calculations\")\n",
    "print()"
   ]
  },
  {
   "cell_type": "code",
   "execution_count": null,
   "id": "fd7fd1b9-dba7-4cbb-87f4-003c3e0ba337",
   "metadata": {},
   "outputs": [],
   "source": []
  }
 ],
 "metadata": {
  "kernelspec": {
   "display_name": "Python 3 (ipykernel)",
   "language": "python",
   "name": "python3"
  },
  "language_info": {
   "codemirror_mode": {
    "name": "ipython",
    "version": 3
   },
   "file_extension": ".py",
   "mimetype": "text/x-python",
   "name": "python",
   "nbconvert_exporter": "python",
   "pygments_lexer": "ipython3",
   "version": "3.12.4"
  }
 },
 "nbformat": 4,
 "nbformat_minor": 5
}
