{
 "cells": [
  {
   "cell_type": "code",
   "execution_count": 7,
   "id": "09de9951-5774-4dd9-9746-ffeea8945cfa",
   "metadata": {},
   "outputs": [
    {
     "name": "stdin",
     "output_type": "stream",
     "text": [
      "Please Enter a Number or string:  aba\n"
     ]
    },
    {
     "name": "stdout",
     "output_type": "stream",
     "text": [
      "The Number or String is Palindrome\n"
     ]
    }
   ],
   "source": [
    "string = input(\"Please Enter a Number or string: \")\n",
    "revString=string[::-1]\n",
    "if string==revString:\n",
    "    print(\"The Number or String is Palindrome\")\n",
    "else:\n",
    "    print(\"The  Number or String is not Palindrome\")"
   ]
  },
  {
   "cell_type": "code",
   "execution_count": null,
   "id": "3dc9d6ad-ee89-49d1-9d09-02c6b815ef40",
   "metadata": {},
   "outputs": [],
   "source": []
  }
 ],
 "metadata": {
  "kernelspec": {
   "display_name": "Python 3 (ipykernel)",
   "language": "python",
   "name": "python3"
  },
  "language_info": {
   "codemirror_mode": {
    "name": "ipython",
    "version": 3
   },
   "file_extension": ".py",
   "mimetype": "text/x-python",
   "name": "python",
   "nbconvert_exporter": "python",
   "pygments_lexer": "ipython3",
   "version": "3.12.4"
  }
 },
 "nbformat": 4,
 "nbformat_minor": 5
}
